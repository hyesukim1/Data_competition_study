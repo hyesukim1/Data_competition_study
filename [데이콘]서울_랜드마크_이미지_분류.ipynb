{
  "nbformat": 4,
  "nbformat_minor": 0,
  "metadata": {
    "colab": {
      "name": "[데이콘]서울 랜드마크 이미지 분류.ipynb",
      "private_outputs": true,
      "provenance": [],
      "authorship_tag": "ABX9TyMxq5mouJThzjC+avbeEqZl",
      "include_colab_link": true
    },
    "kernelspec": {
      "name": "python3",
      "display_name": "Python 3"
    },
    "language_info": {
      "name": "python"
    }
  },
  "cells": [
    {
      "cell_type": "markdown",
      "metadata": {
        "id": "view-in-github",
        "colab_type": "text"
      },
      "source": [
        "<a href=\"https://colab.research.google.com/github/hyesukim1/Data_competition_study/blob/main/%5B%EB%8D%B0%EC%9D%B4%EC%BD%98%5D%EC%84%9C%EC%9A%B8_%EB%9E%9C%EB%93%9C%EB%A7%88%ED%81%AC_%EC%9D%B4%EB%AF%B8%EC%A7%80_%EB%B6%84%EB%A5%98.ipynb\" target=\"_parent\"><img src=\"https://colab.research.google.com/assets/colab-badge.svg\" alt=\"Open In Colab\"/></a>"
      ]
    },
    {
      "cell_type": "markdown",
      "source": [
        "https://www.kaggle.com/code/vincee/intel-image-classification-cnn-keras\n",
        "\n",
        "이 구조를 참고해서 진행해보기"
      ],
      "metadata": {
        "id": "zd2DGw_G3wwp"
      }
    },
    {
      "cell_type": "markdown",
      "source": [
        "# 데이콘 Basic 서울 랜드마크 이미지 분류 경진대회\n",
        "### 문제: classification\n",
        "### 평가지표: Accuracy"
      ],
      "metadata": {
        "id": "ncqYWJD4stRp"
      }
    },
    {
      "cell_type": "code",
      "execution_count": null,
      "metadata": {
        "id": "UUL-ByKqhcbN"
      },
      "outputs": [],
      "source": [
        "from google.colab import files\n",
        "files.upload()"
      ]
    },
    {
      "cell_type": "code",
      "source": [
        "! unzip data.zip"
      ],
      "metadata": {
        "id": "R54h-qhasidc"
      },
      "execution_count": null,
      "outputs": []
    },
    {
      "cell_type": "markdown",
      "source": [
        "#### Import Packages"
      ],
      "metadata": {
        "id": "LHip7UxQtOB2"
      }
    },
    {
      "cell_type": "code",
      "source": [
        ""
      ],
      "metadata": {
        "id": "Og20tMvWslcV"
      },
      "execution_count": null,
      "outputs": []
    },
    {
      "cell_type": "markdown",
      "source": [
        "#### Loading the Data"
      ],
      "metadata": {
        "id": "27qm9p8XtTBL"
      }
    },
    {
      "cell_type": "code",
      "source": [
        "# 데이터 로드 함수"
      ],
      "metadata": {
        "id": "ZP8hd7DdtbXH"
      },
      "execution_count": null,
      "outputs": []
    },
    {
      "cell_type": "markdown",
      "source": [
        "#### 데이터셋 탐구하기"
      ],
      "metadata": {
        "id": "04m6cTejtjDw"
      }
    },
    {
      "cell_type": "code",
      "source": [
        "# 데이터셋 갯수\n",
        "print (\"Number of training examples: {}\".format(n_train))\n",
        "print (\"Number of testing examples: {}\".format(n_test))\n",
        "print (\"Each image is of size: {}\".format(IMAGE_SIZE))\n",
        "\n",
        "# 라벨별 데이터 수 그래프로 만들기\n",
        "# 파이그래프로 비율보기"
      ],
      "metadata": {
        "id": "4SoEagZUtnKG"
      },
      "execution_count": null,
      "outputs": []
    },
    {
      "cell_type": "code",
      "source": [
        "# 이미지 데이터 셋 정규화\n",
        "\n",
        "# 이미지 사진 imshow로 해서 보여주기\n",
        "\n",
        "# 각 랜드 마크별로 보여주기\n"
      ],
      "metadata": {
        "id": "1Uohzcrtyg64"
      },
      "execution_count": null,
      "outputs": []
    },
    {
      "cell_type": "markdown",
      "source": [
        "# Simple Model\n",
        "1. Build the model\n",
        "2. Compile the model\n",
        "3. Train/fit the data to the model\n",
        "4. Evaluate the model on the testing set\n",
        "5. Carry out an error analysis of our model"
      ],
      "metadata": {
        "id": "4ipiDQ1UzZFV"
      }
    },
    {
      "cell_type": "code",
      "source": [
        "# 모델\n",
        "# 컴파일\n",
        "# 훈련/ 핏\n",
        "# 평가\n",
        "# accuracy 시각화(history)"
      ],
      "metadata": {
        "id": "5BOVBD_IzYFf"
      },
      "execution_count": null,
      "outputs": []
    },
    {
      "cell_type": "markdown",
      "source": [
        "#### Error analysis"
      ],
      "metadata": {
        "id": "dOcpTToH1-0-"
      }
    },
    {
      "cell_type": "code",
      "source": [
        "# misleading \n",
        "# confusion_matrix"
      ],
      "metadata": {
        "id": "z5e-eg6t18lF"
      },
      "execution_count": null,
      "outputs": []
    }
  ]
}